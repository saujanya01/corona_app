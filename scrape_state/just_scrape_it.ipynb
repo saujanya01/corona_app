{
 "cells": [
  {
   "cell_type": "code",
   "execution_count": 2,
   "metadata": {},
   "outputs": [],
   "source": [
    "from bs4 import BeautifulSoup\n",
    "import requests"
   ]
  },
  {
   "cell_type": "code",
   "execution_count": 3,
   "metadata": {},
   "outputs": [],
   "source": [
    "url = \"https://www.mohfw.gov.in/\""
   ]
  },
  {
   "cell_type": "code",
   "execution_count": 4,
   "metadata": {},
   "outputs": [
    {
     "data": {
      "text/plain": [
       "'https://www.mohfw.gov.in/'"
      ]
     },
     "execution_count": 4,
     "metadata": {},
     "output_type": "execute_result"
    }
   ],
   "source": [
    "url"
   ]
  },
  {
   "cell_type": "code",
   "execution_count": 5,
   "metadata": {},
   "outputs": [],
   "source": [
    "page = requests.get(url)"
   ]
  },
  {
   "cell_type": "code",
   "execution_count": 6,
   "metadata": {},
   "outputs": [
    {
     "data": {
      "text/plain": [
       "<Response [200]>"
      ]
     },
     "execution_count": 6,
     "metadata": {},
     "output_type": "execute_result"
    }
   ],
   "source": [
    "page"
   ]
  },
  {
   "cell_type": "code",
   "execution_count": 8,
   "metadata": {},
   "outputs": [],
   "source": [
    "soup = BeautifulSoup(page.content)"
   ]
  },
  {
   "cell_type": "code",
   "execution_count": 11,
   "metadata": {},
   "outputs": [],
   "source": [
    "table = soup.find(\"table\")"
   ]
  },
  {
   "cell_type": "code",
   "execution_count": 14,
   "metadata": {},
   "outputs": [
    {
     "data": {
      "text/plain": [
       "bs4.element.Tag"
      ]
     },
     "execution_count": 14,
     "metadata": {},
     "output_type": "execute_result"
    }
   ],
   "source": [
    "type(table)"
   ]
  },
  {
   "cell_type": "code",
   "execution_count": 27,
   "metadata": {},
   "outputs": [
    {
     "data": {
      "text/plain": [
       "'Andhra Pradesh'"
      ]
     },
     "execution_count": 27,
     "metadata": {},
     "output_type": "execute_result"
    }
   ],
   "source": [
    "table.find_all(\"tr\")[0].find_all(\"td\")[1].text"
   ]
  },
  {
   "cell_type": "code",
   "execution_count": 108,
   "metadata": {},
   "outputs": [],
   "source": [
    "state_data = \"\"\n",
    "f = table.find_all(\"tr\")[0].find_all(\"th\")\n",
    "for i in f:\n",
    "    state_data = state_data+i.text+\",\"\n",
    "state_data = state_data[:len(state_data)-1]+\"\\n\"\n",
    "for i in range(1,len(table.find_all(\"tr\"))-1):\n",
    "    row = table.find_all(\"tr\")[i]\n",
    "    s = \"\"\n",
    "    for j in row.find_all(\"td\"):\n",
    "        s = s+j.text+\",\"\n",
    "    s=s[:len(s)-1]\n",
    "    state_data = state_data+s+\"\\n\""
   ]
  },
  {
   "cell_type": "code",
   "execution_count": 112,
   "metadata": {},
   "outputs": [
    {
     "data": {
      "text/plain": [
       "'S. No.,Name of State / UT,Total Confirmed cases (Including 51 foreign Nationals) ,Cured/Discharged/Migrated,Death\\n1,Andhra Pradesh,86,1,1\\n2,Andaman and Nicobar Islands,10,0,0\\n3,Assam,1,0,0\\n4,Bihar,23,0,1\\n5,Chandigarh,16,0,0\\n6,Chhattisgarh,9,2,0\\n7,Delhi,152,6,2\\n8,Goa,5,0,0\\n9,Gujarat,82,5,6\\n10,Haryana,43,21,0\\n11,Himachal Pradesh,3,1,1\\n12,Jammu and Kashmir,62,2,2\\n13,Jharkhand,1,0,0\\n14,Karnataka,110,9,3\\n15,Kerala,265,25,2\\n16,Ladakh,13,3,0\\n17,Madhya Pradesh,99,0,6\\n18,Maharashtra,335,42,13\\n19,Manipur,1,0,0\\n20,Mizoram,1,0,0\\n21,Odisha,4,0,0\\n22,Puducherry,3,1,0\\n23,Punjab,46,1,4\\n24,Rajasthan,108,3,0\\n25,Tamil Nadu,234,6,1\\n26,Telengana,96,1,3\\n27,Uttarakhand,7,2,0\\n28,Uttar Pradesh,113,14,2\\n29,West Bengal,37,6,3\\n'"
      ]
     },
     "execution_count": 112,
     "metadata": {},
     "output_type": "execute_result"
    }
   ],
   "source": [
    "f=open(\"./state_data.csv\",\"w+\")\n",
    "f.write(state_data)\n",
    "state_data"
   ]
  },
  {
   "cell_type": "code",
   "execution_count": 113,
   "metadata": {},
   "outputs": [],
   "source": [
    "import pandas as pd"
   ]
  },
  {
   "cell_type": "code",
   "execution_count": 114,
   "metadata": {},
   "outputs": [],
   "source": [
    "df = pd.read_csv(\"./state_data.csv\",sep=\"\\n\")"
   ]
  },
  {
   "cell_type": "code",
   "execution_count": 126,
   "metadata": {},
   "outputs": [
    {
     "data": {
      "text/plain": [
       "['1', 'Andhra Pradesh', '86', '1', '1']"
      ]
     },
     "execution_count": 126,
     "metadata": {},
     "output_type": "execute_result"
    }
   ],
   "source": [
    "df['S. No.,Name of State / UT,Total Confirmed cases (Including 51 foreign Nationals) ,Cured/Discharged/Migrated,Death'][0].split(',')"
   ]
  },
  {
   "cell_type": "code",
   "execution_count": null,
   "metadata": {},
   "outputs": [],
   "source": []
  }
 ],
 "metadata": {
  "kernelspec": {
   "display_name": "Python 3",
   "language": "python",
   "name": "python3"
  },
  "language_info": {
   "codemirror_mode": {
    "name": "ipython",
    "version": 3
   },
   "file_extension": ".py",
   "mimetype": "text/x-python",
   "name": "python",
   "nbconvert_exporter": "python",
   "pygments_lexer": "ipython3",
   "version": "3.7.3"
  }
 },
 "nbformat": 4,
 "nbformat_minor": 2
}
